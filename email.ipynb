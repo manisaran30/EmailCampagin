{
 "cells": [
  {
   "cell_type": "code",
   "execution_count": 1,
   "id": "f90cc9d1",
   "metadata": {},
   "outputs": [],
   "source": [
    "# 📌 EMAIL CAMPAIGN ANALYSIS & OPTIMIZATION\n",
    "\n",
    "# 👨‍💻 Import libraries\n",
    "import pandas as pd\n",
    "import numpy as np\n",
    "from sklearn.model_selection import train_test_split\n",
    "from sklearn.ensemble import RandomForestClassifier\n",
    "from sklearn.preprocessing import LabelEncoder\n",
    "from sklearn.metrics import classification_report\n",
    "\n",
    "# 📂 Load the datasets\n",
    "email_df = pd.read_csv('email_table.csv')\n",
    "opened_df = pd.read_csv('email_opened_table.csv')\n",
    "clicked_df = pd.read_csv('link_clicked_table.csv')\n"
   ]
  },
  {
   "cell_type": "code",
   "execution_count": 2,
   "id": "a4d1fffd",
   "metadata": {},
   "outputs": [
    {
     "name": "stdout",
     "output_type": "stream",
     "text": [
      "📬 Email Open Rate: 10.35%\n",
      "🔗 Click-through Rate (CTR): 2.12%\n"
     ]
    }
   ],
   "source": [
    "# ✅ Q1. What percentage of users opened the email and clicked on the link?\n",
    "total_emails = email_df.shape[0]\n",
    "\n",
    "opened_emails = opened_df.shape[0]\n",
    "clicked_emails = clicked_df.shape[0]\n",
    "opened_pct = (opened_emails / total_emails) * 100\n",
    "clicked_pct = (clicked_emails / total_emails) * 100\n",
    "\n",
    "print(f\"📬 Email Open Rate: {opened_pct:.2f}%\")\n",
    "print(f\"🔗 Click-through Rate (CTR): {clicked_pct:.2f}%\")\n"
   ]
  },
  {
   "cell_type": "code",
   "execution_count": 3,
   "id": "d78f68bf",
   "metadata": {},
   "outputs": [
    {
     "name": "stdout",
     "output_type": "stream",
     "text": [
      "📊 Model Performance:\n",
      "\n",
      "              precision    recall  f1-score   support\n",
      "\n",
      "           0       0.98      1.00      0.99     19547\n",
      "           1       0.06      0.01      0.02       453\n",
      "\n",
      "    accuracy                           0.97     20000\n",
      "   macro avg       0.52      0.50      0.50     20000\n",
      "weighted avg       0.96      0.97      0.97     20000\n",
      "\n"
     ]
    }
   ],
   "source": [
    "# 🧠 Q2. Can we build a model to optimize sending for clicks?\n",
    "email_df['clicked'] = email_df['email_id'].isin(clicked_df['email_id']).astype(int)\n",
    "\n",
    "for col in ['email_text', 'email_version', 'weekday', 'user_country']:\n",
    "    email_df[col] = LabelEncoder().fit_transform(email_df[col])\n",
    "X = email_df.drop(['email_id', 'clicked'], axis=1)\n",
    "y = email_df['clicked']\n",
    "X_train, X_test, y_train, y_test = train_test_split(X, y, test_size=0.2, random_state=42)\n",
    "model = RandomForestClassifier(random_state=42)\n",
    "model.fit(X_train, y_train)\n",
    "y_pred = model.predict(X_test)\n",
    "print(\"📊 Model Performance:\\n\")\n",
    "print(classification_report(y_test, y_pred))\n"
   ]
  },
  {
   "cell_type": "markdown",
   "id": "a25b2bdb",
   "metadata": {},
   "source": [
    "We trained a model that can rank users based on how likely they are to click an email. The current version struggles with rare clicks due to class imbalance. After applying techniques like resampling or cost-sensitive learning, the model will be more effective in selectively targeting high-potential users, improving email ROI significantly."
   ]
  },
  {
   "cell_type": "code",
   "execution_count": 4,
   "id": "8780e61c",
   "metadata": {},
   "outputs": [
    {
     "name": "stdout",
     "output_type": "stream",
     "text": [
      "🎯 Original CTR (random send): 2.12%\n",
      "🚀 Improved CTR (model-based targeting): 9.21%\n",
      "📈 Estimated CTR Improvement: 334.40%\n"
     ]
    }
   ],
   "source": [
    "#📈 Q3. By how much would the model improve the CTR?\n",
    "email_df['pred_proba'] = model.predict_proba(X)[:, 1]\n",
    "top_20 = email_df.sort_values('pred_proba', ascending=False).head(int(0.2 * len(email_df)))\n",
    "improved_ctr = top_20['clicked'].mean()\n",
    "original_ctr = email_df['clicked'].mean()\n",
    "improvement = ((improved_ctr - original_ctr) / original_ctr) * 100\n",
    "\n",
    "print(f\"🎯 Original CTR (random send): {original_ctr:.2%}\")\n",
    "print(f\"🚀 Improved CTR (model-based targeting): {improved_ctr:.2%}\")\n",
    "print(f\"📈 Estimated CTR Improvement: {improvement:.2f}%\")\n"
   ]
  },
  {
   "cell_type": "markdown",
   "id": "19fada5c",
   "metadata": {},
   "source": [
    "To validate the improvement,we need to run an A/B Test:\n",
    "\n",
    "Group\tDescription\n",
    "Control\tRandom sample of users (same as current method)\n",
    "Test\tTop 20% users based on model predictions\n",
    "Measure CTR in both groups.\n",
    "\n",
    "Use a statistical significance test (like Chi-Squared or z-test for proportions) to ensure the lift is real and not due to chance.\n",
    "Optionally, monitor long-term behavior (e.g., purchases post-click) to validate downstream impact."
   ]
  },
  {
   "cell_type": "code",
   "execution_count": 5,
   "id": "d5fad16d",
   "metadata": {},
   "outputs": [
    {
     "name": "stdout",
     "output_type": "stream",
     "text": [
      "\n",
      "🌍 CTR by Country:\n",
      " user_country\n",
      "UK    0.024675\n",
      "US    0.024360\n",
      "ES    0.008327\n",
      "FR    0.008004\n",
      "Name: clicked, dtype: float64\n",
      "\n",
      "✉️ CTR by Email Version (generic/personalized):\n",
      " email_version\n",
      "generic         0.015137\n",
      "personalized    0.027294\n",
      "Name: clicked, dtype: float64\n",
      "\n",
      "📝 CTR by Email Text Length (short/long):\n",
      " email_text\n",
      "long_email     0.018538\n",
      "short_email    0.023872\n",
      "Name: clicked, dtype: float64\n",
      "\n",
      "🛍️ CTR by Past Purchases:\n",
      " purchase_bin\n",
      "0       0.000504\n",
      "1       0.011199\n",
      "2-3     0.015928\n",
      "4-5     0.021784\n",
      "6-10    0.036451\n",
      "10+     0.069037\n",
      "Name: clicked, dtype: float64\n"
     ]
    }
   ],
   "source": [
    "email_df_original = pd.read_csv('email_table.csv')\n",
    "email_df_original['clicked'] = email_df_original['email_id'].isin(clicked_df['email_id']).astype(int)\n",
    "country_ctr_named = email_df_original.groupby('user_country')['clicked'].mean().sort_values(ascending=False)\n",
    "version_ctr_named = email_df_original.groupby('email_version')['clicked'].mean()\n",
    "text_ctr_named = email_df_original.groupby('email_text')['clicked'].mean()\n",
    "email_df_original['purchase_bin'] = pd.cut(\n",
    "    email_df_original['user_past_purchases'], \n",
    "    bins=[-1, 0, 1, 3, 5, 10, 100], \n",
    "    labels=[\"0\", \"1\", \"2-3\", \"4-5\", \"6-10\", \"10+\"]\n",
    ")\n",
    "purchase_ctr_named = email_df_original.groupby('purchase_bin')['clicked'].mean()\n",
    "print(\"\\n🌍 CTR by Country:\\n\", country_ctr_named)\n",
    "print(\"\\n✉️ CTR by Email Version (generic/personalized):\\n\", version_ctr_named)\n",
    "print(\"\\n📝 CTR by Email Text Length (short/long):\\n\", text_ctr_named)\n",
    "print(\"\\n🛍️ CTR by Past Purchases:\\n\", purchase_ctr_named)\n"
   ]
  },
  {
   "cell_type": "markdown",
   "id": "280507bb",
   "metadata": {},
   "source": [
    "CTR by Country:\n",
    "Users from English-speaking countries (UK & US) responded significantly better to the campaign. Non-English-speaking countries like Spain and France had much lower engagement likely due to language barriers or cultural mismatch in communication.\n",
    "\n",
    "CTR by Email Version:\n",
    "Personalized emails had ~80% higher CTR than generic ones. This supports the idea that personal touches (like using the user’s name) increase trust and engagement.\n",
    "\n",
    "CTR by Email Text Length:\n",
    "Short emails performed ~29% better than long ones. Users seem to prefer concise communication that quickly conveys value.\n",
    "\n",
    "CTR by Past Purchases:\n",
    "There's a strong positive correlation between past purchase behavior and CTR. Highly active buyers (10+) are ~14x more likely to click compared to non-buyers.\n",
    "\n",
    "Focus future campaigns on personalized, short-form emails.\n",
    "\n",
    "Segment the user base by country and purchase history to prioritize high-potential leads.\n",
    "\n",
    "Consider localizing email content for low-performing geographies ES(Spain), FR(france)."
   ]
  }
 ],
 "metadata": {
  "kernelspec": {
   "display_name": "Python 3",
   "language": "python",
   "name": "python3"
  },
  "language_info": {
   "codemirror_mode": {
    "name": "ipython",
    "version": 3
   },
   "file_extension": ".py",
   "mimetype": "text/x-python",
   "name": "python",
   "nbconvert_exporter": "python",
   "pygments_lexer": "ipython3",
   "version": "3.10.5"
  }
 },
 "nbformat": 4,
 "nbformat_minor": 5
}
